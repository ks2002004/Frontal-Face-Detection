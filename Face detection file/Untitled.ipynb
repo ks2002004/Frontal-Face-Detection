{
 "cells": [
  {
   "cell_type": "code",
   "execution_count": 1,
   "id": "4b164280-a5ac-424d-9513-d19074e76324",
   "metadata": {},
   "outputs": [
    {
     "name": "stderr",
     "output_type": "stream",
     "text": [
      "playsound is relying on a python 2 subprocess. Please use `pip3 install PyObjC` if you want playsound to run more efficiently.\n"
     ]
    }
   ],
   "source": [
    "from tkinter import * \n",
    "from tkinter import messagebox\n",
    "from tkinter import filedialog\n",
    "import cv2\n",
    "from PIL import Image, ImageTk\n",
    "from gtts import gTTS \n",
    "from playsound import playsound\n",
    "import os\n",
    "\n",
    "win=Tk()\n",
    "win.state(\"zoomed\")\n",
    "win.resizable(width=False,height=False)\n",
    "win.configure(bg=\"orange\")\n",
    "win.title(\"My project\")\n",
    "\n",
    "lbl_title=Label(win,text=\"Face Detection\",font=('',55,'bold','underline'),bg='orange')\n",
    "lbl_title.place(relx=.3,rely=0)\n",
    "\n",
    "#----------------------------------------Image---------------------------------------\n",
    "imageFrame=None\n",
    "def startface(frame,cv2image,lmain):\n",
    "    clf=cv2.CascadeClassifier(\"haarcascade_frontalface_default.xml\")\n",
    "    gray = cv2.cvtColor(frame,cv2.COLOR_BGR2GRAY) \n",
    "    faces=clf.detectMultiScale(gray,1.2,4)\n",
    "    fc=0\n",
    "\n",
    "    for x,y,w,h in faces:\n",
    "     \n",
    "        cv2.rectangle(cv2image,(x,y),(x+w,y+h),(255,0,0),2)\n",
    "        fc+=1\n",
    "    \n",
    "    img = Image.fromarray(cv2image)\n",
    "    resized_img = img.resize((700, 500), Image.Resampling.LANCZOS)\n",
    "    imgtk = ImageTk.PhotoImage(image=resized_img)\n",
    "   \n",
    "    lmain.imgtk = imgtk\n",
    "    lmain.configure(image=imgtk)\n",
    "    \n",
    "    tt=\"Number of Faces :\"+str(fc)\n",
    "    lbl_result=Label(win,text=tt,font=('',35,'bold'),bg='orange')\n",
    "    lbl_result.place(relx=.6,rely=0.2)\n",
    "    language = 'en'\n",
    "    current_dir = os.getcwd()\n",
    "    myobj = gTTS(text=\"The number of faces I am able to find are\"+str(fc), lang=language, slow=False)\n",
    "\n",
    "# save the audio file to the current directory\n",
    "    audio_file = os.path.join(current_dir, \"hello.mp3\")\n",
    "    myobj.save(audio_file)\n",
    "\n",
    "# play the audio file\n",
    "    playsound(audio_file)\n",
    "    os.remove(audio_file)\n",
    "    \n",
    "  \n",
    "    \n",
    "def browse():\n",
    "    global imageFrame\n",
    "    if(imageFrame!=None):\n",
    "        imageFrame.destroy()\n",
    "    file_path=filedialog.askopenfilename()\n",
    "    frame=cv2.imread(file_path)\n",
    "    cv2image = cv2.cvtColor(frame,cv2.COLOR_BGR2RGB)\n",
    "    \n",
    "    imageFrame= Frame(width=7000, height=5000,bd=6,bg='black')\n",
    "    lmain =Label(imageFrame,bg='yellow')\n",
    "    lmain.grid(row=0, column=0)\n",
    "    imageFrame.place(relx=.27,rely=.3)\n",
    "    img = Image.fromarray(cv2image)\n",
    "    resized_img = img.resize((700, 500), Image.Resampling.LANCZOS)\n",
    "    imgtk = ImageTk.PhotoImage(image=resized_img)\n",
    "    lmain.imgtk = imgtk\n",
    "    lmain.configure(image=imgtk)\n",
    "    btn_Detection=Button(command=lambda:startface(frame,cv2image,lmain),text='Detect face',font=('',20,'bold'),bd=10,width=12).place(relx=.4,rely=.9)\n",
    "def image_screen():\n",
    "    frm=Frame(win,bg='sky blue')\n",
    "    frm.place(relx=0,rely=.15,relwidth=1,relheight=1)\n",
    " \n",
    "    btn_Browse=Button(frm,command=lambda:browse(),text=\"Browse\",font=('',20,'bold'),bd=10,width=8)\n",
    "    btn_Browse.place(relx=.38,rely=0)\n",
    "\n",
    "    btn_back=Button(frm,command=lambda:welcome_screen(),text=\"back\",font=('',20,'bold'),bd=10)\n",
    "    btn_back.place(relx=.9,rely=0)\n",
    "    \n",
    "\n",
    "#----------------------------------------------xxxxxxxxxx-----------------------------------------------------------   \n",
    "iFrame=None\n",
    "def logout():\n",
    "    option=messagebox.askyesno('Confirmation','Do you want to logout?')\n",
    "    if(option==True):\n",
    "        home_screen()\n",
    "    else:\n",
    "        pass\n",
    "\n",
    "\n",
    "def home_screen():\n",
    "    frm=Frame(win,bg='sky blue')\n",
    "    frm.place(relx=0,rely=.12,relwidth=1,relheight=1)\n",
    "    \n",
    "    lbl_user=Label(frm,text=\"Username\",font=('',20,'bold'),bg='yellow')\n",
    "    lbl_user.place(relx=.3,rely=.3)\n",
    "\n",
    "    entry_user=Entry(frm,font=('',20,'bold'),bd=10)\n",
    "    entry_user.place(relx=.42,rely=.3)\n",
    "    entry_user.focus()\n",
    "\n",
    "    lbl_pass=Label(frm,text=\"Password\",font=('',20,'bold'),bg='yellow')\n",
    "    lbl_pass.place(relx=.3,rely=.4)\n",
    "\n",
    "    entry_pass=Entry(frm,font=('',20,'bold'),bd=10,show=\"*\")\n",
    "    entry_pass.place(relx=.42,rely=.4)\n",
    "\n",
    "    btn_login=Button(frm,command=lambda :welcome_screen(entry_user,entry_pass),text=\"login\",font=('',20,'bold'),bd=10,width=10)\n",
    "    btn_login.place(relx=.45,rely=.5)\n",
    "        \n",
    "    \n",
    "def welcome_screen(entry_user=None,entry_pass=None):\n",
    "    if(entry_user!=None and entry_pass!=None):\n",
    "        user=entry_user.get()\n",
    "        pwd=entry_pass.get()\n",
    "        \n",
    "    else:\n",
    "        user=\"admin\"\n",
    "        pwd=\"admin\"\n",
    "    if(len(user)==0 or len(pwd)==0):\n",
    "        messagebox.showwaarning(\"validation\",\"Please fill both fields\")\n",
    "        return\n",
    "    \n",
    "    else:\n",
    "        if(user==\"admin\" and pwd==\"admin\"):\n",
    "            frm=Frame(win,bg='skyblue')\n",
    "            frm.place(relx=0,rely=.15,relwidth=1,relheight=1)\n",
    "\n",
    "            btn_image=Button(frm,command=lambda:image_screen(),text=\"Use Image\",font=('',20,'bold'),bd=10,width=25)\n",
    "            btn_image.place(relx=.35,rely=.35)\n",
    "\n",
    "\n",
    "            btn_logout=Button(frma,command=lambda:logout(),text=\"logout\",font=('',20,'bold'),bd=10)\n",
    "            btn_logout.place(relx=.9,rely=0)\n",
    "            \n",
    "        else:\n",
    "            messagebox.showerror(\"Fail\",\"Invalid Username/Password\")    \n",
    "    \n",
    "    \n",
    "home_screen()"
   ]
  },
  {
   "cell_type": "code",
   "execution_count": 7,
   "id": "a699e0f6-c8cc-476f-bac2-d30c2f3564df",
   "metadata": {},
   "outputs": [
    {
     "name": "stdout",
     "output_type": "stream",
     "text": [
      "Collecting opencv-python\n",
      "  Downloading opencv_python-4.10.0.84-cp37-abi3-macosx_11_0_arm64.whl.metadata (20 kB)\n",
      "Requirement already satisfied: numpy>=1.21.2 in /opt/miniconda3/lib/python3.12/site-packages (from opencv-python) (1.26.4)\n",
      "Downloading opencv_python-4.10.0.84-cp37-abi3-macosx_11_0_arm64.whl (54.8 MB)\n",
      "\u001b[2K   \u001b[90m━━━━━━━━━━━━━━━━━━━━━━━━━━━━━━━━━━━━━━━━\u001b[0m \u001b[32m54.8/54.8 MB\u001b[0m \u001b[31m3.7 MB/s\u001b[0m eta \u001b[36m0:00:00\u001b[0m00:01\u001b[0m00:01\u001b[0m\n",
      "\u001b[?25hInstalling collected packages: opencv-python\n",
      "Successfully installed opencv-python-4.10.0.84\n",
      "Note: you may need to restart the kernel to use updated packages.\n"
     ]
    }
   ],
   "source": [
    "pip install opencv-python"
   ]
  },
  {
   "cell_type": "code",
   "execution_count": 11,
   "id": "207cdbeb-a76d-4b91-9a99-b272a5c54b56",
   "metadata": {},
   "outputs": [
    {
     "name": "stdout",
     "output_type": "stream",
     "text": [
      "Collecting gtts\n",
      "  Downloading gTTS-2.5.4-py3-none-any.whl.metadata (4.1 kB)\n",
      "Requirement already satisfied: requests<3,>=2.27 in /opt/miniconda3/lib/python3.12/site-packages (from gtts) (2.32.3)\n",
      "Requirement already satisfied: click<8.2,>=7.1 in /opt/miniconda3/lib/python3.12/site-packages (from gtts) (8.1.7)\n",
      "Requirement already satisfied: charset-normalizer<4,>=2 in /opt/miniconda3/lib/python3.12/site-packages (from requests<3,>=2.27->gtts) (3.3.2)\n",
      "Requirement already satisfied: idna<4,>=2.5 in /opt/miniconda3/lib/python3.12/site-packages (from requests<3,>=2.27->gtts) (3.7)\n",
      "Requirement already satisfied: urllib3<3,>=1.21.1 in /opt/miniconda3/lib/python3.12/site-packages (from requests<3,>=2.27->gtts) (2.2.2)\n",
      "Requirement already satisfied: certifi>=2017.4.17 in /opt/miniconda3/lib/python3.12/site-packages (from requests<3,>=2.27->gtts) (2024.8.30)\n",
      "Downloading gTTS-2.5.4-py3-none-any.whl (29 kB)\n",
      "Installing collected packages: gtts\n",
      "Successfully installed gtts-2.5.4\n",
      "Note: you may need to restart the kernel to use updated packages.\n"
     ]
    }
   ],
   "source": [
    "pip install gtts"
   ]
  },
  {
   "cell_type": "code",
   "execution_count": 15,
   "id": "6289434f-a7b6-4796-a860-544a86b9b522",
   "metadata": {},
   "outputs": [
    {
     "name": "stdout",
     "output_type": "stream",
     "text": [
      "Collecting playsound\n",
      "  Downloading playsound-1.3.0.tar.gz (7.7 kB)\n",
      "  Preparing metadata (setup.py) ... \u001b[?25ldone\n",
      "\u001b[?25hBuilding wheels for collected packages: playsound\n",
      "  Building wheel for playsound (setup.py) ... \u001b[?25ldone\n",
      "\u001b[?25h  Created wheel for playsound: filename=playsound-1.3.0-py3-none-any.whl size=7019 sha256=2d8a1dafe9af6b64108320a97320d93918a9b5a979e6266546c9b8072ff0970b\n",
      "  Stored in directory: /Users/kavyasharma/Library/Caches/pip/wheels/cf/42/ff/7c587bae55eec67b909ca316b250d9b4daedbf272a3cbeb907\n",
      "Successfully built playsound\n",
      "Installing collected packages: playsound\n",
      "Successfully installed playsound-1.3.0\n",
      "Note: you may need to restart the kernel to use updated packages.\n"
     ]
    }
   ],
   "source": [
    "pip install playsound"
   ]
  },
  {
   "cell_type": "code",
   "execution_count": null,
   "id": "201234f5-5b17-404a-8457-2a99259f5677",
   "metadata": {},
   "outputs": [],
   "source": []
  }
 ],
 "metadata": {
  "kernelspec": {
   "display_name": "Python 3 (ipykernel)",
   "language": "python",
   "name": "python3"
  },
  "language_info": {
   "codemirror_mode": {
    "name": "ipython",
    "version": 3
   },
   "file_extension": ".py",
   "mimetype": "text/x-python",
   "name": "python",
   "nbconvert_exporter": "python",
   "pygments_lexer": "ipython3",
   "version": "3.12.4"
  }
 },
 "nbformat": 4,
 "nbformat_minor": 5
}
